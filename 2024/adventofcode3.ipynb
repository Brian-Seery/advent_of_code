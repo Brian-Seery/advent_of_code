{
 "cells": [
  {
   "cell_type": "code",
   "execution_count": 29,
   "metadata": {},
   "outputs": [
    {
     "name": "stdout",
     "output_type": "stream",
     "text": [
      "185797128\n",
      "89798695\n"
     ]
    }
   ],
   "source": [
    "import re\n",
    "\n",
    "with open('data/day_3_input.txt') as f:\n",
    "    data = f.readlines()\n",
    "\n",
    "nums1 = r\"mul\\((\\d+),(\\d+)\\)\"\n",
    "\n",
    "all_text = ''.join(data)\n",
    "\n",
    "matches1 = re.findall(nums1, all_text)\n",
    "\n",
    "products1 = [int(a) * int(b) for a, b in matches1]\n",
    "\n",
    "print(sum(products1))\n",
    "\n",
    "#### Part 2\n",
    "\n",
    "spterm1 = r\"do\\(\\)\"\n",
    "spterm2 = r\"don't\\(\\)\"\n",
    "\n",
    "parts_after_do = re.split(spterm1, all_text)[1:]  # Skip content before the first 'do()'\n",
    "\n",
    "valid_parts = []\n",
    "for part in parts_after_do:\n",
    "    # Split again at 'don't()' and process the first part only\n",
    "    valid_parts.extend(re.split(spterm2, part)[:1])\n",
    "\n",
    "# Now find matches for 'mul(x, y)' only in valid parts\n",
    "matches1 = []\n",
    "for part in valid_parts:\n",
    "    matches1.extend(re.findall(nums1, part))\n",
    "\n",
    "products2 = [int(a) * int(b) for a, b in matches1]\n",
    "\n",
    "\n",
    "print(sum(products2))\n",
    "\n"
   ]
  }
 ],
 "metadata": {
  "kernelspec": {
   "display_name": "Python 3",
   "language": "python",
   "name": "python3"
  },
  "language_info": {
   "codemirror_mode": {
    "name": "ipython",
    "version": 3
   },
   "file_extension": ".py",
   "mimetype": "text/x-python",
   "name": "python",
   "nbconvert_exporter": "python",
   "pygments_lexer": "ipython3",
   "version": "3.9.6"
  }
 },
 "nbformat": 4,
 "nbformat_minor": 2
}
