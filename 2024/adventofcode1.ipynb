{
 "cells": [
  {
   "cell_type": "code",
   "execution_count": 34,
   "metadata": {},
   "outputs": [
    {
     "name": "stdout",
     "output_type": "stream",
     "text": [
      "['10066', '10232']\n",
      "10066 10232\n",
      "2176849\n"
     ]
    }
   ],
   "source": [
    "import csv\n",
    "\n",
    "file = open ('data/day_1_input.csv')\n",
    "data = list(csv.reader(file, delimiter=','))\n",
    "file.close()\n",
    "\n",
    "print(data[0])\n",
    "\n",
    "int_data = [[int(x) for x in sublist] for sublist in data]\n",
    "\n",
    "list1 = []\n",
    "list2 = []\n",
    "\n",
    "for row in int_data:\n",
    "    list1.append(row[0])\n",
    "    list2.append(row[1])\n",
    "\n",
    "print(list1[0], list2[0])\n",
    "\n",
    "\n",
    "diff = [a - b for a, b in zip(list1, list2)]\n",
    "\n",
    "tot_diff = sum(abs(d) for d in diff)\n",
    "\n",
    "print(tot_diff)\n",
    "\n"
   ]
  },
  {
   "cell_type": "code",
   "execution_count": 30,
   "metadata": {},
   "outputs": [
    {
     "name": "stdout",
     "output_type": "stream",
     "text": [
      "23384288\n"
     ]
    }
   ],
   "source": [
    "total_sum = sum(element * list2.count(element) for element in list1)\n",
    "\n",
    "print(total_sum)"
   ]
  }
 ],
 "metadata": {
  "kernelspec": {
   "display_name": "Python 3",
   "language": "python",
   "name": "python3"
  },
  "language_info": {
   "codemirror_mode": {
    "name": "ipython",
    "version": 3
   },
   "file_extension": ".py",
   "mimetype": "text/x-python",
   "name": "python",
   "nbconvert_exporter": "python",
   "pygments_lexer": "ipython3",
   "version": "3.9.6"
  }
 },
 "nbformat": 4,
 "nbformat_minor": 2
}
