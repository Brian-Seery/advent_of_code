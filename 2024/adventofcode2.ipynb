{
 "cells": [
  {
   "cell_type": "code",
   "execution_count": 66,
   "metadata": {},
   "outputs": [
    {
     "name": "stdout",
     "output_type": "stream",
     "text": [
      "Number of valid rows: 463\n"
     ]
    }
   ],
   "source": [
    "import pandas as pd\n",
    "\n",
    "data = pd.read_csv('data/day_2_input.csv', header=None)\n",
    "\n",
    "rows_as_lists = data.values.tolist()\n",
    "\n",
    "cleaned_rows = []\n",
    "\n",
    "for row in rows_as_lists:\n",
    "    cleaned_row = []\n",
    "    for x in row:\n",
    "        if pd.notna(x) and str(x).replace('.', '', 1).isdigit():\n",
    "            cleaned_row.append(int(float(x)))\n",
    "    cleaned_rows.append(cleaned_row)\n",
    "\n",
    "n = 0\n",
    "\n",
    "# Check each row for the conditions\n",
    "for row in cleaned_rows:\n",
    "    # Check if the absolute difference between consecutive values is between 1 and 3\n",
    "    valid_diff = all(1 <= abs(row[i+1] - row[i]) <= 3 for i in range(len(row) - 1))\n",
    "    \n",
    "    # Check if the row is either strictly increasing or strictly decreasing\n",
    "    strictly_increasing = all(row[i+1] > row[i] for i in range(len(row) - 1))\n",
    "    strictly_decreasing = all(row[i+1] < row[i] for i in range(len(row) - 1))\n",
    "    \n",
    "    if valid_diff and (strictly_increasing or strictly_decreasing):\n",
    "        n += 1\n",
    "\n",
    "print(f\"Number of valid rows: {n}\")"
   ]
  },
  {
   "cell_type": "code",
   "execution_count": 67,
   "metadata": {},
   "outputs": [
    {
     "name": "stdout",
     "output_type": "stream",
     "text": [
      "Number of valid rows: 514\n"
     ]
    }
   ],
   "source": [
    "def is_valid_row(row):\n",
    "    # Check if the absolute difference between consecutive values is between 1 and 3\n",
    "    valid_diff = all(1 <= abs(row[i+1] - row[i]) <= 3 for i in range(len(row) - 1))\n",
    "    \n",
    "    # Check if the row is either strictly increasing or strictly decreasing\n",
    "    strictly_increasing = all(row[i+1] > row[i] for i in range(len(row) - 1))\n",
    "    strictly_decreasing = all(row[i+1] < row[i] for i in range(len(row) - 1))\n",
    "    \n",
    "    return valid_diff and (strictly_increasing or strictly_decreasing)\n",
    "\n",
    "# Initialize the counter for valid rows\n",
    "n = 0\n",
    "\n",
    "# Check each row for the conditions\n",
    "for row in cleaned_rows:\n",
    "    # First, check the row as is\n",
    "    if is_valid_row(row):\n",
    "        n += 1\n",
    "    else:\n",
    "        # Try removing each element and check the modified row\n",
    "        for i in range(len(row)):\n",
    "            modified_row = row[:i] + row[i+1:]  # Remove the i-th element\n",
    "            if is_valid_row(modified_row):\n",
    "                n += 1\n",
    "                break  # Once a valid modified row is found, no need to check further\n",
    "\n",
    "print(f\"Number of valid rows: {n}\")"
   ]
  }
 ],
 "metadata": {
  "kernelspec": {
   "display_name": "Python 3",
   "language": "python",
   "name": "python3"
  },
  "language_info": {
   "codemirror_mode": {
    "name": "ipython",
    "version": 3
   },
   "file_extension": ".py",
   "mimetype": "text/x-python",
   "name": "python",
   "nbconvert_exporter": "python",
   "pygments_lexer": "ipython3",
   "version": "3.9.6"
  }
 },
 "nbformat": 4,
 "nbformat_minor": 2
}
